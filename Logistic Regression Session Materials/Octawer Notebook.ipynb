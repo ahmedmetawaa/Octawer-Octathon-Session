{
 "cells": [
  {
   "cell_type": "markdown",
   "metadata": {},
   "source": [
    "### Import our popular library to read and manipulate our dataset.."
   ]
  },
  {
   "cell_type": "code",
   "execution_count": 3,
   "metadata": {},
   "outputs": [],
   "source": [
    "import pandas as pd"
   ]
  },
  {
   "cell_type": "markdown",
   "metadata": {},
   "source": [
    "### Ok, Now read the data\n",
    "#### it's name is 'gender_classification' and it's extension 'csv'"
   ]
  },
  {
   "cell_type": "code",
   "execution_count": 4,
   "metadata": {
    "execution": {
     "iopub.execute_input": "2022-12-02T20:16:12.596642Z",
     "iopub.status.busy": "2022-12-02T20:16:12.596002Z",
     "iopub.status.idle": "2022-12-02T20:16:12.623617Z",
     "shell.execute_reply": "2022-12-02T20:16:12.622647Z"
    },
    "papermill": {
     "duration": 0.040208,
     "end_time": "2022-12-02T20:16:12.626595",
     "exception": false,
     "start_time": "2022-12-02T20:16:12.586387",
     "status": "completed"
    },
    "tags": []
   },
   "outputs": [],
   "source": [
    "df = pd.read_csv(\"gender_classification.csv\")"
   ]
  },
  {
   "cell_type": "markdown",
   "metadata": {},
   "source": [
    "### Look at first 5 rows of data\n"
   ]
  },
  {
   "cell_type": "code",
   "execution_count": 5,
   "metadata": {
    "execution": {
     "iopub.execute_input": "2022-12-02T20:16:12.640259Z",
     "iopub.status.busy": "2022-12-02T20:16:12.639680Z",
     "iopub.status.idle": "2022-12-02T20:16:12.666402Z",
     "shell.execute_reply": "2022-12-02T20:16:12.665555Z"
    },
    "papermill": {
     "duration": 0.03632,
     "end_time": "2022-12-02T20:16:12.668799",
     "exception": false,
     "start_time": "2022-12-02T20:16:12.632479",
     "status": "completed"
    },
    "scrolled": true,
    "tags": []
   },
   "outputs": [
    {
     "data": {
      "text/html": [
       "<div>\n",
       "<style scoped>\n",
       "    .dataframe tbody tr th:only-of-type {\n",
       "        vertical-align: middle;\n",
       "    }\n",
       "\n",
       "    .dataframe tbody tr th {\n",
       "        vertical-align: top;\n",
       "    }\n",
       "\n",
       "    .dataframe thead th {\n",
       "        text-align: right;\n",
       "    }\n",
       "</style>\n",
       "<table border=\"1\" class=\"dataframe\">\n",
       "  <thead>\n",
       "    <tr style=\"text-align: right;\">\n",
       "      <th></th>\n",
       "      <th>long_hair</th>\n",
       "      <th>forehead_width_cm</th>\n",
       "      <th>forehead_height_cm</th>\n",
       "      <th>nose_wide</th>\n",
       "      <th>nose_long</th>\n",
       "      <th>lips_thin</th>\n",
       "      <th>distance_nose_to_lip_long</th>\n",
       "      <th>gender</th>\n",
       "    </tr>\n",
       "  </thead>\n",
       "  <tbody>\n",
       "    <tr>\n",
       "      <th>0</th>\n",
       "      <td>1</td>\n",
       "      <td>11.8</td>\n",
       "      <td>6.1</td>\n",
       "      <td>1</td>\n",
       "      <td>0</td>\n",
       "      <td>1</td>\n",
       "      <td>1</td>\n",
       "      <td>Male</td>\n",
       "    </tr>\n",
       "    <tr>\n",
       "      <th>1</th>\n",
       "      <td>0</td>\n",
       "      <td>14.0</td>\n",
       "      <td>5.4</td>\n",
       "      <td>0</td>\n",
       "      <td>0</td>\n",
       "      <td>1</td>\n",
       "      <td>0</td>\n",
       "      <td>Female</td>\n",
       "    </tr>\n",
       "    <tr>\n",
       "      <th>2</th>\n",
       "      <td>0</td>\n",
       "      <td>11.8</td>\n",
       "      <td>6.3</td>\n",
       "      <td>1</td>\n",
       "      <td>1</td>\n",
       "      <td>1</td>\n",
       "      <td>1</td>\n",
       "      <td>Male</td>\n",
       "    </tr>\n",
       "    <tr>\n",
       "      <th>3</th>\n",
       "      <td>0</td>\n",
       "      <td>14.4</td>\n",
       "      <td>6.1</td>\n",
       "      <td>0</td>\n",
       "      <td>1</td>\n",
       "      <td>1</td>\n",
       "      <td>1</td>\n",
       "      <td>Male</td>\n",
       "    </tr>\n",
       "    <tr>\n",
       "      <th>4</th>\n",
       "      <td>1</td>\n",
       "      <td>13.5</td>\n",
       "      <td>5.9</td>\n",
       "      <td>0</td>\n",
       "      <td>0</td>\n",
       "      <td>0</td>\n",
       "      <td>0</td>\n",
       "      <td>Female</td>\n",
       "    </tr>\n",
       "  </tbody>\n",
       "</table>\n",
       "</div>"
      ],
      "text/plain": [
       "   long_hair  forehead_width_cm  forehead_height_cm  nose_wide  nose_long  \\\n",
       "0          1               11.8                 6.1          1          0   \n",
       "1          0               14.0                 5.4          0          0   \n",
       "2          0               11.8                 6.3          1          1   \n",
       "3          0               14.4                 6.1          0          1   \n",
       "4          1               13.5                 5.9          0          0   \n",
       "\n",
       "   lips_thin  distance_nose_to_lip_long  gender  \n",
       "0          1                          1    Male  \n",
       "1          1                          0  Female  \n",
       "2          1                          1    Male  \n",
       "3          1                          1    Male  \n",
       "4          0                          0  Female  "
      ]
     },
     "execution_count": 5,
     "metadata": {},
     "output_type": "execute_result"
    }
   ],
   "source": [
    "df.head()"
   ]
  },
  {
   "cell_type": "markdown",
   "metadata": {},
   "source": [
    "***We see all columns except forehead_width_cm and forehead_height_cm are already encoded (except gender) Categorical features\n",
    "forehead_width_cm and forehead_height_cm are numerical features***\n",
    "### Let us encode the gender column where 0 = Female, and 1 = Male manually.."
   ]
  },
  {
   "cell_type": "code",
   "execution_count": 6,
   "metadata": {
    "execution": {
     "iopub.execute_input": "2022-12-02T20:16:12.682983Z",
     "iopub.status.busy": "2022-12-02T20:16:12.681705Z",
     "iopub.status.idle": "2022-12-02T20:16:12.692148Z",
     "shell.execute_reply": "2022-12-02T20:16:12.690989Z"
    },
    "papermill": {
     "duration": 0.020466,
     "end_time": "2022-12-02T20:16:12.695140",
     "exception": false,
     "start_time": "2022-12-02T20:16:12.674674",
     "status": "completed"
    },
    "tags": []
   },
   "outputs": [],
   "source": [
    "# dataset['gender'] = dataset.gender.eq(\"Male\").mul(1)\n",
    "\n",
    "df['gender'] = df['gender'].replace({'Male':1,'Female':0})"
   ]
  },
  {
   "cell_type": "code",
   "execution_count": 7,
   "metadata": {},
   "outputs": [
    {
     "data": {
      "text/html": [
       "<div>\n",
       "<style scoped>\n",
       "    .dataframe tbody tr th:only-of-type {\n",
       "        vertical-align: middle;\n",
       "    }\n",
       "\n",
       "    .dataframe tbody tr th {\n",
       "        vertical-align: top;\n",
       "    }\n",
       "\n",
       "    .dataframe thead th {\n",
       "        text-align: right;\n",
       "    }\n",
       "</style>\n",
       "<table border=\"1\" class=\"dataframe\">\n",
       "  <thead>\n",
       "    <tr style=\"text-align: right;\">\n",
       "      <th></th>\n",
       "      <th>long_hair</th>\n",
       "      <th>forehead_width_cm</th>\n",
       "      <th>forehead_height_cm</th>\n",
       "      <th>nose_wide</th>\n",
       "      <th>nose_long</th>\n",
       "      <th>lips_thin</th>\n",
       "      <th>distance_nose_to_lip_long</th>\n",
       "      <th>gender</th>\n",
       "    </tr>\n",
       "  </thead>\n",
       "  <tbody>\n",
       "    <tr>\n",
       "      <th>0</th>\n",
       "      <td>1</td>\n",
       "      <td>11.8</td>\n",
       "      <td>6.1</td>\n",
       "      <td>1</td>\n",
       "      <td>0</td>\n",
       "      <td>1</td>\n",
       "      <td>1</td>\n",
       "      <td>1</td>\n",
       "    </tr>\n",
       "    <tr>\n",
       "      <th>1</th>\n",
       "      <td>0</td>\n",
       "      <td>14.0</td>\n",
       "      <td>5.4</td>\n",
       "      <td>0</td>\n",
       "      <td>0</td>\n",
       "      <td>1</td>\n",
       "      <td>0</td>\n",
       "      <td>0</td>\n",
       "    </tr>\n",
       "    <tr>\n",
       "      <th>2</th>\n",
       "      <td>0</td>\n",
       "      <td>11.8</td>\n",
       "      <td>6.3</td>\n",
       "      <td>1</td>\n",
       "      <td>1</td>\n",
       "      <td>1</td>\n",
       "      <td>1</td>\n",
       "      <td>1</td>\n",
       "    </tr>\n",
       "    <tr>\n",
       "      <th>3</th>\n",
       "      <td>0</td>\n",
       "      <td>14.4</td>\n",
       "      <td>6.1</td>\n",
       "      <td>0</td>\n",
       "      <td>1</td>\n",
       "      <td>1</td>\n",
       "      <td>1</td>\n",
       "      <td>1</td>\n",
       "    </tr>\n",
       "    <tr>\n",
       "      <th>4</th>\n",
       "      <td>1</td>\n",
       "      <td>13.5</td>\n",
       "      <td>5.9</td>\n",
       "      <td>0</td>\n",
       "      <td>0</td>\n",
       "      <td>0</td>\n",
       "      <td>0</td>\n",
       "      <td>0</td>\n",
       "    </tr>\n",
       "  </tbody>\n",
       "</table>\n",
       "</div>"
      ],
      "text/plain": [
       "   long_hair  forehead_width_cm  forehead_height_cm  nose_wide  nose_long  \\\n",
       "0          1               11.8                 6.1          1          0   \n",
       "1          0               14.0                 5.4          0          0   \n",
       "2          0               11.8                 6.3          1          1   \n",
       "3          0               14.4                 6.1          0          1   \n",
       "4          1               13.5                 5.9          0          0   \n",
       "\n",
       "   lips_thin  distance_nose_to_lip_long  gender  \n",
       "0          1                          1       1  \n",
       "1          1                          0       0  \n",
       "2          1                          1       1  \n",
       "3          1                          1       1  \n",
       "4          0                          0       0  "
      ]
     },
     "execution_count": 7,
     "metadata": {},
     "output_type": "execute_result"
    }
   ],
   "source": [
    "df.head()"
   ]
  },
  {
   "cell_type": "markdown",
   "metadata": {},
   "source": [
    "### Now plz check the datatype of all the columns"
   ]
  },
  {
   "cell_type": "code",
   "execution_count": 8,
   "metadata": {
    "execution": {
     "iopub.execute_input": "2022-12-02T20:16:12.733790Z",
     "iopub.status.busy": "2022-12-02T20:16:12.733039Z",
     "iopub.status.idle": "2022-12-02T20:16:12.740539Z",
     "shell.execute_reply": "2022-12-02T20:16:12.739272Z"
    },
    "papermill": {
     "duration": 0.017205,
     "end_time": "2022-12-02T20:16:12.742790",
     "exception": false,
     "start_time": "2022-12-02T20:16:12.725585",
     "status": "completed"
    },
    "scrolled": true,
    "tags": []
   },
   "outputs": [
    {
     "data": {
      "text/plain": [
       "long_hair                      int64\n",
       "forehead_width_cm            float64\n",
       "forehead_height_cm           float64\n",
       "nose_wide                      int64\n",
       "nose_long                      int64\n",
       "lips_thin                      int64\n",
       "distance_nose_to_lip_long      int64\n",
       "gender                         int64\n",
       "dtype: object"
      ]
     },
     "execution_count": 8,
     "metadata": {},
     "output_type": "execute_result"
    }
   ],
   "source": [
    "df.dtypes"
   ]
  },
  {
   "cell_type": "markdown",
   "metadata": {
    "papermill": {
     "duration": 0.005607,
     "end_time": "2022-12-02T20:16:12.754663",
     "exception": false,
     "start_time": "2022-12-02T20:16:12.749056",
     "status": "completed"
    },
    "tags": []
   },
   "source": [
    "**Ok, The dtypes are as expected. Let's see if there are any NaN values?.**"
   ]
  },
  {
   "cell_type": "code",
   "execution_count": 9,
   "metadata": {
    "execution": {
     "iopub.execute_input": "2022-12-02T20:16:12.770565Z",
     "iopub.status.busy": "2022-12-02T20:16:12.769831Z",
     "iopub.status.idle": "2022-12-02T20:16:12.778758Z",
     "shell.execute_reply": "2022-12-02T20:16:12.777595Z"
    },
    "papermill": {
     "duration": 0.020575,
     "end_time": "2022-12-02T20:16:12.781089",
     "exception": false,
     "start_time": "2022-12-02T20:16:12.760514",
     "status": "completed"
    },
    "tags": []
   },
   "outputs": [
    {
     "data": {
      "text/plain": [
       "long_hair                    0\n",
       "forehead_width_cm            0\n",
       "forehead_height_cm           0\n",
       "nose_wide                    0\n",
       "nose_long                    0\n",
       "lips_thin                    0\n",
       "distance_nose_to_lip_long    0\n",
       "gender                       0\n",
       "dtype: int64"
      ]
     },
     "execution_count": 9,
     "metadata": {},
     "output_type": "execute_result"
    }
   ],
   "source": [
    "df.isnull().sum()"
   ]
  },
  {
   "cell_type": "markdown",
   "metadata": {},
   "source": [
    "***This is great news, as we do not need to do any data cleaning regarding NaN values.***"
   ]
  },
  {
   "cell_type": "markdown",
   "metadata": {
    "papermill": {
     "duration": 0.005668,
     "end_time": "2022-12-02T20:16:12.805009",
     "exception": false,
     "start_time": "2022-12-02T20:16:12.799341",
     "status": "completed"
    },
    "tags": []
   },
   "source": [
    "### Check if columns forehead_width_cm and forehead_height_cm contain non-sensical values, such as x <=0 for all x $\\in R^{+}$."
   ]
  },
  {
   "cell_type": "code",
   "execution_count": 10,
   "metadata": {
    "execution": {
     "iopub.execute_input": "2022-12-02T20:16:12.819989Z",
     "iopub.status.busy": "2022-12-02T20:16:12.819269Z",
     "iopub.status.idle": "2022-12-02T20:16:12.826519Z",
     "shell.execute_reply": "2022-12-02T20:16:12.825252Z"
    },
    "papermill": {
     "duration": 0.01763,
     "end_time": "2022-12-02T20:16:12.829233",
     "exception": false,
     "start_time": "2022-12-02T20:16:12.811603",
     "status": "completed"
    },
    "tags": []
   },
   "outputs": [
    {
     "name": "stdout",
     "output_type": "stream",
     "text": [
      "False\n",
      "False\n"
     ]
    }
   ],
   "source": [
    "print(any(df.forehead_width_cm <= 0))\n",
    "print(any(df.forehead_height_cm <= 0))"
   ]
  },
  {
   "cell_type": "markdown",
   "metadata": {
    "papermill": {
     "duration": 0.005857,
     "end_time": "2022-12-02T20:16:12.841685",
     "exception": false,
     "start_time": "2022-12-02T20:16:12.835828",
     "status": "completed"
    },
    "tags": []
   },
   "source": [
    "### See more data about dataset's numerical features"
   ]
  },
  {
   "cell_type": "code",
   "execution_count": 11,
   "metadata": {
    "execution": {
     "iopub.execute_input": "2022-12-02T20:16:12.855682Z",
     "iopub.status.busy": "2022-12-02T20:16:12.855267Z",
     "iopub.status.idle": "2022-12-02T20:16:12.871826Z",
     "shell.execute_reply": "2022-12-02T20:16:12.869873Z"
    },
    "papermill": {
     "duration": 0.027656,
     "end_time": "2022-12-02T20:16:12.875487",
     "exception": false,
     "start_time": "2022-12-02T20:16:12.847831",
     "status": "completed"
    },
    "tags": []
   },
   "outputs": [
    {
     "name": "stdout",
     "output_type": "stream",
     "text": [
      "count    5001.000000\n",
      "mean       13.181484\n",
      "std         1.107128\n",
      "min        11.400000\n",
      "25%        12.200000\n",
      "50%        13.100000\n",
      "75%        14.000000\n",
      "max        15.500000\n",
      "Name: forehead_width_cm, dtype: float64\n",
      "\n",
      "count    5001.000000\n",
      "mean        5.946311\n",
      "std         0.541268\n",
      "min         5.100000\n",
      "25%         5.500000\n",
      "50%         5.900000\n",
      "75%         6.400000\n",
      "max         7.100000\n",
      "Name: forehead_height_cm, dtype: float64\n"
     ]
    }
   ],
   "source": [
    "print(df.forehead_width_cm.describe())\n",
    "print(\"\")\n",
    "print(df.forehead_height_cm.describe())"
   ]
  },
  {
   "cell_type": "markdown",
   "metadata": {
    "papermill": {
     "duration": 0.006605,
     "end_time": "2022-12-02T20:16:13.410720",
     "exception": false,
     "start_time": "2022-12-02T20:16:13.404115",
     "status": "completed"
    },
    "tags": []
   },
   "source": [
    "## Let's create our ML model."
   ]
  },
  {
   "cell_type": "markdown",
   "metadata": {},
   "source": [
    "### Assign data into predictive features (X) and the predicted feature (y)"
   ]
  },
  {
   "cell_type": "code",
   "execution_count": 12,
   "metadata": {
    "execution": {
     "iopub.execute_input": "2022-12-02T20:16:13.426937Z",
     "iopub.status.busy": "2022-12-02T20:16:13.425989Z",
     "iopub.status.idle": "2022-12-02T20:16:13.432874Z",
     "shell.execute_reply": "2022-12-02T20:16:13.431884Z"
    },
    "papermill": {
     "duration": 0.017707,
     "end_time": "2022-12-02T20:16:13.435347",
     "exception": false,
     "start_time": "2022-12-02T20:16:13.417640",
     "status": "completed"
    },
    "tags": []
   },
   "outputs": [],
   "source": [
    "# X = dataset.iloc[:,:-1]\n",
    "X = df.iloc[:,0:7]\n",
    "y = df.iloc[:,-1]"
   ]
  },
  {
   "cell_type": "markdown",
   "metadata": {},
   "source": [
    "### Splitting the dataset into the Training set and Test set\n"
   ]
  },
  {
   "cell_type": "code",
   "execution_count": 13,
   "metadata": {
    "execution": {
     "iopub.execute_input": "2022-12-02T20:16:13.450871Z",
     "iopub.status.busy": "2022-12-02T20:16:13.450411Z",
     "iopub.status.idle": "2022-12-02T20:16:14.702476Z",
     "shell.execute_reply": "2022-12-02T20:16:14.701381Z"
    },
    "papermill": {
     "duration": 1.263477,
     "end_time": "2022-12-02T20:16:14.705556",
     "exception": false,
     "start_time": "2022-12-02T20:16:13.442079",
     "status": "completed"
    },
    "tags": []
   },
   "outputs": [],
   "source": [
    "from sklearn.model_selection import train_test_split\n",
    "X_train, X_test, y_train, y_test = train_test_split(X, y, test_size = 0.25, random_state = 0)"
   ]
  },
  {
   "cell_type": "markdown",
   "metadata": {},
   "source": [
    "### import your LogisticRegression Algo"
   ]
  },
  {
   "cell_type": "code",
   "execution_count": 14,
   "metadata": {
    "papermill": {
     "duration": 0.006486,
     "end_time": "2022-12-02T20:16:15.109946",
     "exception": false,
     "start_time": "2022-12-02T20:16:15.103460",
     "status": "completed"
    },
    "tags": []
   },
   "outputs": [],
   "source": [
    "from sklearn.linear_model import LogisticRegression"
   ]
  },
  {
   "cell_type": "markdown",
   "metadata": {},
   "source": [
    "### Take an object then fit your (X_train,y_train)"
   ]
  },
  {
   "cell_type": "code",
   "execution_count": 15,
   "metadata": {},
   "outputs": [
    {
     "data": {
      "text/plain": [
       "LogisticRegression()"
      ]
     },
     "execution_count": 15,
     "metadata": {},
     "output_type": "execute_result"
    }
   ],
   "source": [
    "LG = LogisticRegression()\n",
    "LG.fit(X_train,y_train)"
   ]
  },
  {
   "cell_type": "markdown",
   "metadata": {},
   "source": [
    "### Predict on the test set\n"
   ]
  },
  {
   "cell_type": "code",
   "execution_count": 16,
   "metadata": {},
   "outputs": [],
   "source": [
    "y_pred = LG.predict(X_test)"
   ]
  },
  {
   "cell_type": "markdown",
   "metadata": {},
   "source": [
    "### What about score of traing and test?"
   ]
  },
  {
   "cell_type": "code",
   "execution_count": 17,
   "metadata": {},
   "outputs": [
    {
     "name": "stdout",
     "output_type": "stream",
     "text": [
      "Model's training accuracy = 0.97\n",
      "Model's test accuracy = 0.97\n"
     ]
    }
   ],
   "source": [
    "LG_Train_Score = LG.score(X_train,y_train)\n",
    "LG_Test_Score = LG.score(X_test,y_test)\n",
    "print(\"Model's training accuracy = \" + str(round(LG_Train_Score,2)))\n",
    "print(\"Model's test accuracy = \" + str(round(LG_Test_Score,2)))"
   ]
  },
  {
   "cell_type": "markdown",
   "metadata": {},
   "source": [
    "### Ok, Now Import the confusion_matrix, take an object then print it"
   ]
  },
  {
   "cell_type": "code",
   "execution_count": 18,
   "metadata": {},
   "outputs": [
    {
     "name": "stdout",
     "output_type": "stream",
     "text": [
      "[[622  20]\n",
      " [ 21 588]]\n"
     ]
    }
   ],
   "source": [
    "from sklearn.metrics import confusion_matrix\n",
    "cm = confusion_matrix(y_test,y_pred)\n",
    "print(cm)"
   ]
  },
  {
   "cell_type": "markdown",
   "metadata": {},
   "source": [
    "### What about turn it into heatmap?"
   ]
  },
  {
   "cell_type": "code",
   "execution_count": 21,
   "metadata": {},
   "outputs": [
    {
     "data": {
      "text/plain": [
       "<AxesSubplot:>"
      ]
     },
     "execution_count": 21,
     "metadata": {},
     "output_type": "execute_result"
    },
    {
     "data": {
      "image/png": "[encoded data removed]",
      "text/plain": [
       "<Figure size 432x288 with 2 Axes>"
      ]
     },
     "metadata": {
      "needs_background": "light"
     },
     "output_type": "display_data"
    }
   ],
   "source": [
    "import seaborn as sns\n",
    "sns.heatmap(cm, annot=True,fmt='.2f',cmap='Blues')"
   ]
  },
  {
   "cell_type": "markdown",
   "metadata": {},
   "source": [
    "### Your Precisition and Recall ?"
   ]
  },
  {
   "cell_type": "code",
   "execution_count": 22,
   "metadata": {},
   "outputs": [
    {
     "name": "stdout",
     "output_type": "stream",
     "text": [
      "0.9671052631578947\n",
      "0.9655172413793104\n"
     ]
    }
   ],
   "source": [
    "from sklearn.metrics import precision_score, recall_score\n",
    "\n",
    "print(precision_score(y_test,y_pred))\n",
    "print(recall_score(y_test,y_pred))"
   ]
  },
  {
   "cell_type": "markdown",
   "metadata": {},
   "source": [
    "### what if conluse all these measures steps in one report?"
   ]
  },
  {
   "cell_type": "code",
   "execution_count": 23,
   "metadata": {},
   "outputs": [
    {
     "name": "stdout",
     "output_type": "stream",
     "text": [
      "              precision    recall  f1-score   support\n",
      "\n",
      "           0       0.97      0.97      0.97       642\n",
      "           1       0.97      0.97      0.97       609\n",
      "\n",
      "    accuracy                           0.97      1251\n",
      "   macro avg       0.97      0.97      0.97      1251\n",
      "weighted avg       0.97      0.97      0.97      1251\n",
      "\n"
     ]
    }
   ],
   "source": [
    "from sklearn.metrics import classification_report\n",
    "print(classification_report(y_test,y_pred))"
   ]
  },
  {
   "cell_type": "markdown",
   "metadata": {},
   "source": [
    "**Thanks For Trying**"
   ]
  }
 ],
 "metadata": {
  "kernelspec": {
   "display_name": "Python 3",
   "language": "python",
   "name": "python3"
  },
  "language_info": {
   "codemirror_mode": {
    "name": "ipython",
    "version": 3
   },
   "file_extension": ".py",
   "mimetype": "text/x-python",
   "name": "python",
   "nbconvert_exporter": "python",
   "pygments_lexer": "ipython3",
   "version": "3.8.5"
  },
  "papermill": {
   "default_parameters": {},
   "duration": 13.020309,
   "end_time": "2022-12-02T20:16:16.243196",
   "environment_variables": {},
   "exception": null,
   "input_path": "__notebook__.ipynb",
   "output_path": "__notebook__.ipynb",
   "parameters": {},
   "start_time": "2022-12-02T20:16:03.222887",
   "version": "2.3.4"
  }
 },
 "nbformat": 4,
 "nbformat_minor": 5
}
