{
 "cells": [
  {
   "cell_type": "markdown",
   "metadata": {},
   "source": [
    "### Import our popular library to read and manipulate our dataset.."
   ]
  },
  {
   "cell_type": "code",
   "execution_count": 1,
   "metadata": {},
   "outputs": [],
   "source": []
  },
  {
   "cell_type": "markdown",
   "metadata": {},
   "source": [
    "### Ok, Now read the data\n",
    "#### it's name is 'gender_classification' and it's extension 'csv'"
   ]
  },
  {
   "cell_type": "code",
   "execution_count": 3,
   "metadata": {
    "execution": {
     "iopub.execute_input": "2022-12-02T20:16:12.596642Z",
     "iopub.status.busy": "2022-12-02T20:16:12.596002Z",
     "iopub.status.idle": "2022-12-02T20:16:12.623617Z",
     "shell.execute_reply": "2022-12-02T20:16:12.622647Z"
    },
    "papermill": {
     "duration": 0.040208,
     "end_time": "2022-12-02T20:16:12.626595",
     "exception": false,
     "start_time": "2022-12-02T20:16:12.586387",
     "status": "completed"
    },
    "tags": []
   },
   "outputs": [],
   "source": []
  },
  {
   "cell_type": "markdown",
   "metadata": {},
   "source": [
    "### Look at first 5 rows of data\n"
   ]
  },
  {
   "cell_type": "code",
   "execution_count": null,
   "metadata": {
    "execution": {
     "iopub.execute_input": "2022-12-02T20:16:12.640259Z",
     "iopub.status.busy": "2022-12-02T20:16:12.639680Z",
     "iopub.status.idle": "2022-12-02T20:16:12.666402Z",
     "shell.execute_reply": "2022-12-02T20:16:12.665555Z"
    },
    "papermill": {
     "duration": 0.03632,
     "end_time": "2022-12-02T20:16:12.668799",
     "exception": false,
     "start_time": "2022-12-02T20:16:12.632479",
     "status": "completed"
    },
    "scrolled": true,
    "tags": []
   },
   "outputs": [],
   "source": []
  },
  {
   "cell_type": "markdown",
   "metadata": {},
   "source": [
    "### let us encode the gender column where 0 = Female, and 1 = Male manually.."
   ]
  },
  {
   "cell_type": "code",
   "execution_count": null,
   "metadata": {
    "execution": {
     "iopub.execute_input": "2022-12-02T20:16:12.682983Z",
     "iopub.status.busy": "2022-12-02T20:16:12.681705Z",
     "iopub.status.idle": "2022-12-02T20:16:12.692148Z",
     "shell.execute_reply": "2022-12-02T20:16:12.690989Z"
    },
    "papermill": {
     "duration": 0.020466,
     "end_time": "2022-12-02T20:16:12.695140",
     "exception": false,
     "start_time": "2022-12-02T20:16:12.674674",
     "status": "completed"
    },
    "tags": []
   },
   "outputs": [],
   "source": []
  },
  {
   "cell_type": "code",
   "execution_count": null,
   "metadata": {},
   "outputs": [],
   "source": []
  },
  {
   "cell_type": "markdown",
   "metadata": {},
   "source": [
    "### Now plz check the datatype of all the columns"
   ]
  },
  {
   "cell_type": "code",
   "execution_count": null,
   "metadata": {
    "execution": {
     "iopub.execute_input": "2022-12-02T20:16:12.733790Z",
     "iopub.status.busy": "2022-12-02T20:16:12.733039Z",
     "iopub.status.idle": "2022-12-02T20:16:12.740539Z",
     "shell.execute_reply": "2022-12-02T20:16:12.739272Z"
    },
    "papermill": {
     "duration": 0.017205,
     "end_time": "2022-12-02T20:16:12.742790",
     "exception": false,
     "start_time": "2022-12-02T20:16:12.725585",
     "status": "completed"
    },
    "scrolled": true,
    "tags": []
   },
   "outputs": [],
   "source": []
  },
  {
   "cell_type": "markdown",
   "metadata": {
    "papermill": {
     "duration": 0.005607,
     "end_time": "2022-12-02T20:16:12.754663",
     "exception": false,
     "start_time": "2022-12-02T20:16:12.749056",
     "status": "completed"
    },
    "tags": []
   },
   "source": [
    "**Ok, The dtypes are as expected. Let's see if there are any NaN values?.**"
   ]
  },
  {
   "cell_type": "code",
   "execution_count": null,
   "metadata": {
    "execution": {
     "iopub.execute_input": "2022-12-02T20:16:12.770565Z",
     "iopub.status.busy": "2022-12-02T20:16:12.769831Z",
     "iopub.status.idle": "2022-12-02T20:16:12.778758Z",
     "shell.execute_reply": "2022-12-02T20:16:12.777595Z"
    },
    "papermill": {
     "duration": 0.020575,
     "end_time": "2022-12-02T20:16:12.781089",
     "exception": false,
     "start_time": "2022-12-02T20:16:12.760514",
     "status": "completed"
    },
    "tags": []
   },
   "outputs": [],
   "source": []
  },
  {
   "cell_type": "markdown",
   "metadata": {
    "papermill": {
     "duration": 0.005668,
     "end_time": "2022-12-02T20:16:12.805009",
     "exception": false,
     "start_time": "2022-12-02T20:16:12.799341",
     "status": "completed"
    },
    "tags": []
   },
   "source": [
    "**Check if columns forehead_width_cm and forehead_height_cm contain\n",
    "non-sensical values, such as x <=0 for all x $\\in R^{+}$.**"
   ]
  },
  {
   "cell_type": "code",
   "execution_count": null,
   "metadata": {
    "execution": {
     "iopub.execute_input": "2022-12-02T20:16:12.819989Z",
     "iopub.status.busy": "2022-12-02T20:16:12.819269Z",
     "iopub.status.idle": "2022-12-02T20:16:12.826519Z",
     "shell.execute_reply": "2022-12-02T20:16:12.825252Z"
    },
    "papermill": {
     "duration": 0.01763,
     "end_time": "2022-12-02T20:16:12.829233",
     "exception": false,
     "start_time": "2022-12-02T20:16:12.811603",
     "status": "completed"
    },
    "tags": []
   },
   "outputs": [],
   "source": []
  },
  {
   "cell_type": "markdown",
   "metadata": {},
   "source": [
    "### See more data about dataset's numerical features\n"
   ]
  },
  {
   "cell_type": "code",
   "execution_count": null,
   "metadata": {
    "execution": {
     "iopub.execute_input": "2022-12-02T20:16:12.855682Z",
     "iopub.status.busy": "2022-12-02T20:16:12.855267Z",
     "iopub.status.idle": "2022-12-02T20:16:12.871826Z",
     "shell.execute_reply": "2022-12-02T20:16:12.869873Z"
    },
    "papermill": {
     "duration": 0.027656,
     "end_time": "2022-12-02T20:16:12.875487",
     "exception": false,
     "start_time": "2022-12-02T20:16:12.847831",
     "status": "completed"
    },
    "tags": []
   },
   "outputs": [],
   "source": []
  },
  {
   "cell_type": "markdown",
   "metadata": {
    "papermill": {
     "duration": 0.006605,
     "end_time": "2022-12-02T20:16:13.410720",
     "exception": false,
     "start_time": "2022-12-02T20:16:13.404115",
     "status": "completed"
    },
    "tags": []
   },
   "source": [
    "## Let's create our ML model."
   ]
  },
  {
   "cell_type": "markdown",
   "metadata": {},
   "source": [
    "### Assign data into predictive features (X) and the predicted feature (y)"
   ]
  },
  {
   "cell_type": "code",
   "execution_count": null,
   "metadata": {
    "execution": {
     "iopub.execute_input": "2022-12-02T20:16:13.426937Z",
     "iopub.status.busy": "2022-12-02T20:16:13.425989Z",
     "iopub.status.idle": "2022-12-02T20:16:13.432874Z",
     "shell.execute_reply": "2022-12-02T20:16:13.431884Z"
    },
    "papermill": {
     "duration": 0.017707,
     "end_time": "2022-12-02T20:16:13.435347",
     "exception": false,
     "start_time": "2022-12-02T20:16:13.417640",
     "status": "completed"
    },
    "tags": []
   },
   "outputs": [],
   "source": []
  },
  {
   "cell_type": "code",
   "execution_count": null,
   "metadata": {},
   "outputs": [],
   "source": []
  },
  {
   "cell_type": "markdown",
   "metadata": {},
   "source": [
    "### Splitting the dataset into the Training set and Test set\n"
   ]
  },
  {
   "cell_type": "code",
   "execution_count": null,
   "metadata": {
    "execution": {
     "iopub.execute_input": "2022-12-02T20:16:13.450871Z",
     "iopub.status.busy": "2022-12-02T20:16:13.450411Z",
     "iopub.status.idle": "2022-12-02T20:16:14.702476Z",
     "shell.execute_reply": "2022-12-02T20:16:14.701381Z"
    },
    "papermill": {
     "duration": 1.263477,
     "end_time": "2022-12-02T20:16:14.705556",
     "exception": false,
     "start_time": "2022-12-02T20:16:13.442079",
     "status": "completed"
    },
    "tags": []
   },
   "outputs": [],
   "source": []
  },
  {
   "cell_type": "markdown",
   "metadata": {},
   "source": [
    "### import your LogisticRegression Algo"
   ]
  },
  {
   "cell_type": "code",
   "execution_count": null,
   "metadata": {
    "papermill": {
     "duration": 0.006486,
     "end_time": "2022-12-02T20:16:15.109946",
     "exception": false,
     "start_time": "2022-12-02T20:16:15.103460",
     "status": "completed"
    },
    "tags": []
   },
   "outputs": [],
   "source": []
  },
  {
   "cell_type": "markdown",
   "metadata": {},
   "source": [
    "### Take an object then fit your (X_train,y_train)"
   ]
  },
  {
   "cell_type": "code",
   "execution_count": null,
   "metadata": {},
   "outputs": [],
   "source": []
  },
  {
   "cell_type": "markdown",
   "metadata": {},
   "source": [
    "### Predict on the test set\n"
   ]
  },
  {
   "cell_type": "code",
   "execution_count": null,
   "metadata": {},
   "outputs": [],
   "source": []
  },
  {
   "cell_type": "markdown",
   "metadata": {},
   "source": [
    "### What about score (Accuracy) of traing and test?"
   ]
  },
  {
   "cell_type": "code",
   "execution_count": null,
   "metadata": {},
   "outputs": [],
   "source": []
  },
  {
   "cell_type": "markdown",
   "metadata": {},
   "source": [
    "### Ok, Now Import the confusion_matrix, take an object then print it"
   ]
  },
  {
   "cell_type": "code",
   "execution_count": null,
   "metadata": {},
   "outputs": [],
   "source": []
  },
  {
   "cell_type": "markdown",
   "metadata": {},
   "source": [
    "### What about turn it into heatmap?"
   ]
  },
  {
   "cell_type": "code",
   "execution_count": null,
   "metadata": {},
   "outputs": [],
   "source": []
  },
  {
   "cell_type": "markdown",
   "metadata": {},
   "source": [
    "### Your Precisition and Recall ?"
   ]
  },
  {
   "cell_type": "code",
   "execution_count": null,
   "metadata": {},
   "outputs": [],
   "source": []
  },
  {
   "cell_type": "markdown",
   "metadata": {},
   "source": [
    "### what if conluse all these measures steps in one report?"
   ]
  },
  {
   "cell_type": "code",
   "execution_count": null,
   "metadata": {},
   "outputs": [],
   "source": []
  },
  {
   "cell_type": "markdown",
   "metadata": {},
   "source": [
    "**Thanks For Trying**"
   ]
  }
 ],
 "metadata": {
  "kernelspec": {
   "display_name": "Python 3",
   "language": "python",
   "name": "python3"
  },
  "language_info": {
   "codemirror_mode": {
    "name": "ipython",
    "version": 3
   },
   "file_extension": ".py",
   "mimetype": "text/x-python",
   "name": "python",
   "nbconvert_exporter": "python",
   "pygments_lexer": "ipython3",
   "version": "3.8.5"
  },
  "papermill": {
   "default_parameters": {},
   "duration": 13.020309,
   "end_time": "2022-12-02T20:16:16.243196",
   "environment_variables": {},
   "exception": null,
   "input_path": "__notebook__.ipynb",
   "output_path": "__notebook__.ipynb",
   "parameters": {},
   "start_time": "2022-12-02T20:16:03.222887",
   "version": "2.3.4"
  }
 },
 "nbformat": 4,
 "nbformat_minor": 5
}
